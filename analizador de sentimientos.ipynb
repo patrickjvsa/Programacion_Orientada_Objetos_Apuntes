{
 "cells": [
  {
   "cell_type": "markdown",
   "metadata": {},
   "source": [
    "Construir un analizador de sentimientos que utilice la API de OPENAI o textblob respetando los principios SOLID y utilizando POO."
   ]
  },
  {
   "cell_type": "code",
   "execution_count": 6,
   "metadata": {},
   "outputs": [],
   "source": [
    "from abc import ABC, abstractmethod\n",
    "\n",
    "class AnalizadorDeSentimientos(ABC):\n",
    "    \n",
    "    @abstractmethod\n",
    "    def analizar_sentimiento(self, texto):\n",
    "        pass"
   ]
  },
  {
   "cell_type": "code",
   "execution_count": 28,
   "metadata": {},
   "outputs": [],
   "source": [
    "class AnalizadorDeSentimientosOpenAI(AnalizadorDeSentimientos):\n",
    "    def analizar_sentimiento(self, texto):\n",
    "        import openai\n",
    "        from dotenv import load_dotenv\n",
    "        import os\n",
    "\n",
    "        load_dotenv()\n",
    "        openai.api_key = os.environ.get(\"OPENAI_API_KEY\")\n",
    "\n",
    "        system = \"\"\"Asume que eres un bot que analiza sentimientos presentes en un texto ficticio.\n",
    "            Te entrego el texto y necesito que me entregues\n",
    "            como respuesta exclusivamente un float de máximo 4 caracteres entre\n",
    "            el valor -1 si es negativo máximo, 1 positivo máximo, 0 neutro.\"\"\"\n",
    "\n",
    "        messages = [{\"role\": \"system\", \"content\": system}, \n",
    "                    {\"role\": \"user\", \"content\": texto}]\n",
    "\n",
    "        response = openai.ChatCompletion.create(\n",
    "            model=\"gpt-3.5-turbo\",\n",
    "            messages=messages,\n",
    "        )\n",
    "        return float(response.choices[0].message[\"content\"])"
   ]
  },
  {
   "cell_type": "code",
   "execution_count": 24,
   "metadata": {},
   "outputs": [],
   "source": [
    "\n",
    "class AnalizadorDeSentimientosTextBlob(AnalizadorDeSentimientos):\n",
    "\n",
    "    def analizar_sentimiento(self, texto):\n",
    "        from textblob import TextBlob\n",
    "        analisis = TextBlob(texto)\n",
    "        return analisis.sentiment.polarity "
   ]
  },
  {
   "cell_type": "code",
   "execution_count": 12,
   "metadata": {},
   "outputs": [],
   "source": [
    "class Sentimiento:\n",
    "    def __init__(self, nombre, color):\n",
    "        self.nombre = nombre\n",
    "        self.color = color\n",
    "    \n",
    "    def __str__(self):\n",
    "        from termcolor import colored\n",
    "        return colored(self.nombre, self.color)"
   ]
  },
  {
   "cell_type": "code",
   "execution_count": 13,
   "metadata": {},
   "outputs": [],
   "source": [
    "class ClasificadorDeSentimiento:\n",
    "    def __init__(self, rangos):\n",
    "        self.rangos = rangos\n",
    "\n",
    "    def clasificar_sentimiento(self, polaridad):\n",
    "        # si la polaridad se halla entre los rangos, toma el sentimiento\n",
    "        for rango, sentimiento in self.rangos:\n",
    "            if rango[0] < polaridad <= rango[1]:\n",
    "                return sentimiento\n",
    "        return Sentimiento(\"Muy negativo\", \"red\")"
   ]
  },
  {
   "cell_type": "code",
   "execution_count": 20,
   "metadata": {},
   "outputs": [],
   "source": [
    "rangos = [\n",
    "    ((-1, -0.75), Sentimiento(\"Muy negativo\", \"red\")),\n",
    "    ((-0.75, -0.5), Sentimiento(\"Negativo\", \"yellow\")),\n",
    "    ((-0.5, -0.25), Sentimiento(\"Levemente negativo\", \"blue\")),\n",
    "    ((-0.25, 0.25), Sentimiento(\"Neutral\", \"cyan\")),\n",
    "    ((0.25, 0.5), Sentimiento(\"Levemente positivo\", \"green\")),\n",
    "    ((0.5, 0.75), Sentimiento(\"Positivo\", \"magenta\")),\n",
    "    ((0.75, 1), Sentimiento(\"Muy positivo\", \"white\")),\n",
    "    ]"
   ]
  },
  {
   "cell_type": "code",
   "execution_count": 31,
   "metadata": {},
   "outputs": [
    {
     "name": "stdout",
     "output_type": "stream",
     "text": [
      "La polaridad es:  0.8\n",
      "La clasificación es:  \u001b[97mMuy positivo\u001b[0m\n"
     ]
    }
   ],
   "source": [
    "texto = str(input(\"Ingrese un texto: \"))\n",
    "\n",
    "analizador = AnalizadorDeSentimientosTextBlob()\n",
    "polaridad = analizador.analizar_sentimiento(texto)\n",
    "print(\"La polaridad es: \", polaridad)\n",
    "\n",
    "clasificador = ClasificadorDeSentimiento(rangos)\n",
    "clasificacion = clasificador.clasificar_sentimiento(polaridad)\n",
    "print(\"La clasificación es: \", clasificacion)"
   ]
  }
 ],
 "metadata": {
  "kernelspec": {
   "display_name": "Python 3",
   "language": "python",
   "name": "python3"
  },
  "language_info": {
   "codemirror_mode": {
    "name": "ipython",
    "version": 3
   },
   "file_extension": ".py",
   "mimetype": "text/x-python",
   "name": "python",
   "nbconvert_exporter": "python",
   "pygments_lexer": "ipython3",
   "version": "3.10.5"
  }
 },
 "nbformat": 4,
 "nbformat_minor": 2
}
