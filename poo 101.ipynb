{
 "cells": [
  {
   "cell_type": "markdown",
   "metadata": {},
   "source": [
    "#### Programación orientada a objetos 101.\n",
    "\n",
    "En este documento se explicarán los cuatro pilares de la programación orientada a objetos, los cuales son: abstracción, encapsulamiento, herencia y polimorfismo."
   ]
  },
  {
   "cell_type": "markdown",
   "metadata": {},
   "source": [
    "##### Abstracción"
   ]
  },
  {
   "cell_type": "code",
   "execution_count": 19,
   "metadata": {},
   "outputs": [],
   "source": [
    "class Personaje:\n",
    "    nombre = \"Default\"\n",
    "    fuerza = 0\n",
    "    vida = 0\n",
    "    inteligencia = 0\n",
    "    defensa = 0\n",
    "    aguante = fuerza * vida\n",
    "\n",
    "    def __init__(self, nombre, fuerza, vida, inteligencia, defensa):\n",
    "        # mediante self se accede a la instancia de la clase y se le asignan nuevos valores \n",
    "        self.nombre = nombre\n",
    "        self.fuerza = fuerza\n",
    "        self.vida = vida\n",
    "        self.inteligencia = inteligencia\n",
    "        self.defensa = defensa\n",
    "\n",
    "    def mostrar_atributos(self):\n",
    "        # un ejemplo donde se accede a los atributos de la instancia de la clase\n",
    "        print(\"Nombre: \", self.nombre)\n",
    "        print(\"Fuerza: \", self.fuerza)\n",
    "        print(\"Vida: \", self.vida)\n",
    "        print(\"Inteligencia: \", self.inteligencia)\n",
    "        print(\"Defensa: \", self.defensa)\n",
    "        return\n",
    "\n",
    "    def subir_nivel(self, fuerza, inteligencia, defensa):\n",
    "        # un ejemplo donde se modifican los atributos de la instancia de la clase\n",
    "        self.fuerza += fuerza\n",
    "        self.inteligencia += inteligencia\n",
    "        self.defensa += defensa\n",
    "\n",
    "    def esta_vivo(self):\n",
    "        return self.vida > 0\n",
    "    \n",
    "    def morir(self):\n",
    "        self.vida = 0\n",
    "        print(f\"{self.nombre} ha muerto\")\n",
    "\n",
    "    def calcular_daño(self, enemigo):\n",
    "        # en este caso accedo primero al valor de la instancia de la clase personaje y luego al valor de la instancia de la clase enemigo\n",
    "        return self.fuerza - enemigo.defensa\n",
    "    \n",
    "    def atacar(self, enemigo):\n",
    "        # primero se calcula el daño que se le hará al enemigo\n",
    "        daño = self.calcular_daño(enemigo)\n",
    "        # luego se le resta el daño a la vida del enemigo\n",
    "        enemigo.vida = enemigo.vida - daño\n",
    "        # se muestra por pantalla el daño que se le hizo al enemigo \n",
    "        print(f\"{self.nombre} atacó a {enemigo.nombre} y le hizo {daño} puntos de daño\")\n",
    "        # se verifica si el enemigo murió\n",
    "        if enemigo.esta_vivo():\n",
    "            # se imprime la nueva vida del enemigo\n",
    "            print(f\"{enemigo.nombre} tiene {enemigo.vida} puntos de vida\")\n",
    "        else:\n",
    "            enemigo.morir()"
   ]
  },
  {
   "cell_type": "markdown",
   "metadata": {},
   "source": [
    "En este caso, mi_personaje es una instancia de la clase Personaje. Posee los atributos que se asignaron por defecto a la clase y por ahora no tiene ningún método.\n",
    "\n",
    "Self hace referencia a la instancia de la clase que se está creando, con el fin de acceder a sus atributos y metodos."
   ]
  },
  {
   "cell_type": "code",
   "execution_count": 21,
   "metadata": {},
   "outputs": [
    {
     "name": "stdout",
     "output_type": "stream",
     "text": [
      "Patrick atacó a Bob y le hizo 2 puntos de daño\n",
      "Bob ha muerto\n"
     ]
    }
   ],
   "source": [
    "mi_personaje = Personaje(\"Patrick\", 10, 100, 10, 10)\n",
    "mi_enemigo = Personaje(\"Bob\", 8, 2, 8, 8)\n",
    "\n",
    "mi_personaje.atacar(mi_enemigo)\n"
   ]
  },
  {
   "cell_type": "markdown",
   "metadata": {},
   "source": [
    "##### Encapsulamiento"
   ]
  },
  {
   "cell_type": "markdown",
   "metadata": {},
   "source": [
    "En este caso, al poner dos guiones por delante del atributo o método, se está indicando que este es privado y no se puede acceder a él desde fuera de la clase. Es decir, solo atacar puede accionar morir."
   ]
  },
  {
   "cell_type": "code",
   "execution_count": null,
   "metadata": {},
   "outputs": [],
   "source": [
    "def __morir(self):\n",
    "        self.vida = 0\n",
    "        print(f\"{self.nombre} ha muerto\")"
   ]
  },
  {
   "cell_type": "markdown",
   "metadata": {},
   "source": [
    "Get y Set son métodos que permiten acceder a los atributos privados de una clase. Get permite obtener el valor de un atributo privado y Set permite modificar el valor de un atributo privado."
   ]
  },
  {
   "cell_type": "code",
   "execution_count": null,
   "metadata": {},
   "outputs": [],
   "source": [
    "def get_fuerza(self):\n",
    "    return self.__fuerza\n",
    "\n",
    "def set_fuerza(self, fuerza):\n",
    "    self.__fuerza = fuerza"
   ]
  },
  {
   "cell_type": "markdown",
   "metadata": {},
   "source": [
    "##### Herencia"
   ]
  },
  {
   "cell_type": "markdown",
   "metadata": {},
   "source": [
    "La herencia es una característica de la POO que permite crear nuevas clases a partir de otras ya existentes. La clase que se hereda se conoce como clase padre y la nueva clase como clase hija."
   ]
  },
  {
   "cell_type": "code",
   "execution_count": 62,
   "metadata": {},
   "outputs": [
    {
     "name": "stdout",
     "output_type": "stream",
     "text": [
      "Nombre:  Guts\n",
      "Fuerza:  10\n",
      "Vida:  100\n",
      "Inteligencia:  10\n",
      "Defensa:  10\n",
      "Espada:  2\n"
     ]
    }
   ],
   "source": [
    "class Guerrero(Personaje):\n",
    "    \n",
    "    def __init__(self, nombre, fuerza, vida, inteligencia, defensa, espada):\n",
    "        # Super se utiliza para llamar al constructor de la clase padre, en este caso Personaje. No es necesario pasarle self como argumento.\n",
    "        super().__init__(nombre, fuerza, vida, inteligencia, defensa)\n",
    "        self.espada = espada\n",
    "    \n",
    "    def mostrar_atributos(self):\n",
    "        # En este caso, se utiliza super para llamar al método mostrar_atributos de la clase padre, en este caso Personaje.\n",
    "        super().mostrar_atributos()\n",
    "        print(\"Espada: \", self.espada)\n",
    "    \n",
    "    def calcular_daño(self, enemigo):\n",
    "        return self.fuerza * self.espada - enemigo.defensa\n",
    "\n",
    "guerrero = Guerrero(\"Guts\", 10, 100, 10, 10, 2)\n",
    "guerrero.mostrar_atributos()"
   ]
  },
  {
   "cell_type": "code",
   "execution_count": 63,
   "metadata": {},
   "outputs": [
    {
     "name": "stdout",
     "output_type": "stream",
     "text": [
      "Nombre:  Vanessa\n",
      "Fuerza:  10\n",
      "Vida:  100\n",
      "Inteligencia:  10\n",
      "Defensa:  10\n",
      "Libro:  3\n"
     ]
    }
   ],
   "source": [
    "class Mago(Personaje):\n",
    "    \n",
    "    def __init__(self, nombre, fuerza, vida, inteligencia, defensa, libro):\n",
    "        # Super se utiliza para llamar al constructor de la clase padre, en este caso Personaje. No es necesario pasarle self como argumento.\n",
    "        super().__init__(nombre, fuerza, vida, inteligencia, defensa)\n",
    "        self.libro = libro\n",
    "    \n",
    "    def mostrar_atributos(self):\n",
    "        # En este caso, se utiliza super para llamar al método mostrar_atributos de la clase padre, en este caso Personaje.\n",
    "        super().mostrar_atributos()\n",
    "        print(\"Libro: \", self.libro)\n",
    "    \n",
    "    def calcular_daño(self, enemigo):\n",
    "        return self.inteligencia * self.libro - enemigo.defensa\n",
    "\n",
    "mago = Mago(\"Vanessa\", 10, 100, 10, 10, 3)\n",
    "mago.mostrar_atributos()"
   ]
  },
  {
   "cell_type": "markdown",
   "metadata": {},
   "source": [
    "##### Polimorfismo"
   ]
  },
  {
   "cell_type": "markdown",
   "metadata": {},
   "source": [
    "El polimorfismo es una característica de la POO que permite que clases hijas de una misma clase padre puedan tener métodos con el mismo nombre pero comportamientos diferentes dependiendo de la clase hija."
   ]
  },
  {
   "cell_type": "code",
   "execution_count": 65,
   "metadata": {},
   "outputs": [],
   "source": [
    "def combate(guerrero, mago):\n",
    "    turno = 1\n",
    "    while guerrero.esta_vivo() and mago.esta_vivo():\n",
    "        # imprime el numero de turno turno\n",
    "        print(\"Turno: \", turno, \"\\n\")\n",
    "        guerrero.atacar(mago)\n",
    "        if mago.esta_vivo():\n",
    "            mago.atacar(guerrero)\n",
    "        turno += 1"
   ]
  },
  {
   "cell_type": "code",
   "execution_count": 64,
   "metadata": {},
   "outputs": [
    {
     "name": "stdout",
     "output_type": "stream",
     "text": [
      "Turno:  0 \n",
      "\n",
      "Guts atacó a Vanessa y le hizo 10 puntos de daño\n",
      "Vanessa tiene 90 puntos de vida\n",
      "Vanessa atacó a Guts y le hizo 20 puntos de daño\n",
      "Guts tiene 80 puntos de vida\n",
      "Turno:  1 \n",
      "\n",
      "Guts atacó a Vanessa y le hizo 10 puntos de daño\n",
      "Vanessa tiene 80 puntos de vida\n",
      "Vanessa atacó a Guts y le hizo 20 puntos de daño\n",
      "Guts tiene 60 puntos de vida\n",
      "Turno:  2 \n",
      "\n",
      "Guts atacó a Vanessa y le hizo 10 puntos de daño\n",
      "Vanessa tiene 70 puntos de vida\n",
      "Vanessa atacó a Guts y le hizo 20 puntos de daño\n",
      "Guts tiene 40 puntos de vida\n",
      "Turno:  3 \n",
      "\n",
      "Guts atacó a Vanessa y le hizo 10 puntos de daño\n",
      "Vanessa tiene 60 puntos de vida\n",
      "Vanessa atacó a Guts y le hizo 20 puntos de daño\n",
      "Guts tiene 20 puntos de vida\n",
      "Turno:  4 \n",
      "\n",
      "Guts atacó a Vanessa y le hizo 10 puntos de daño\n",
      "Vanessa tiene 50 puntos de vida\n",
      "Vanessa atacó a Guts y le hizo 20 puntos de daño\n",
      "Guts ha muerto\n"
     ]
    }
   ],
   "source": [
    "combate(guerrero, mago)  "
   ]
  }
 ],
 "metadata": {
  "kernelspec": {
   "display_name": "Python 3",
   "language": "python",
   "name": "python3"
  },
  "language_info": {
   "codemirror_mode": {
    "name": "ipython",
    "version": 3
   },
   "file_extension": ".py",
   "mimetype": "text/x-python",
   "name": "python",
   "nbconvert_exporter": "python",
   "pygments_lexer": "ipython3",
   "version": "3.10.5"
  }
 },
 "nbformat": 4,
 "nbformat_minor": 2
}
