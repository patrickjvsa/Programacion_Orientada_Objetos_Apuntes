{
 "cells": [
  {
   "cell_type": "markdown",
   "metadata": {},
   "source": [
    "#### Programación orientada a objetos 201.\n",
    "\n",
    "En el siguiente documento se revisan conceptos más avanzados de la programación orientada a objetos en Python, además de los principios SOLID."
   ]
  },
  {
   "cell_type": "markdown",
   "metadata": {},
   "source": [
    "En la celda de abajo, se muestra issubclass & isinstance. Ambas son funciones. Issubclass se utiliza para verificar la relación entre clases y subclases, mientras que isinstance se utiliza para verificar la relación entre objetos y clases."
   ]
  },
  {
   "cell_type": "code",
   "execution_count": null,
   "metadata": {},
   "outputs": [],
   "source": [
    "herencia = issubclass(Empresa, Empleado) # False\n",
    "instancia = isinstance(google, Empresa) # True"
   ]
  },
  {
   "cell_type": "markdown",
   "metadata": {},
   "source": [
    "MRO\n",
    "\n",
    "El MRO es el orden en el que Python busca los métodos en la herencia múltiple. MRO significa Method Resolution Order (Orden de Resolución de Métodos).\n",
    "\n",
    "Esto quiere decir que cuando se llama a un método en una clase, Python buscará el método en la clase actual. Si no lo encuentra, buscará en la clase padre, y así sucesivamente.\n",
    "\n",
    "En este caso, como c no tiene el metodo hablar(), lo busca en b, ya que a pesar de que haya herencia multiple, aparece primero. De no estar en b, lo buscaria en la clase padre de todas las clases."
   ]
  },
  {
   "cell_type": "code",
   "execution_count": 4,
   "metadata": {},
   "outputs": [
    {
     "name": "stdout",
     "output_type": "stream",
     "text": [
      "Hola soy B\n"
     ]
    }
   ],
   "source": [
    "class A:\n",
    "    def hablar(self):\n",
    "        print(\"Hola soy A\")\n",
    "\n",
    "class B(A):\n",
    "    def hablar(self):\n",
    "        print(\"Hola soy B\")\n",
    "\n",
    "class C(B, A):\n",
    "    pass\n",
    "\n",
    "c = C()\n",
    "c.hablar()"
   ]
  },
  {
   "cell_type": "markdown",
   "metadata": {},
   "source": [
    "Set y get.\n",
    "\n",
    "Son metodos que se utilizan para accedero modificar los atributos de una clase. Se utilizan para proteger los datos dentro de una clase, ya que no se puede acceder a ellos directamente."
   ]
  },
  {
   "cell_type": "code",
   "execution_count": null,
   "metadata": {},
   "outputs": [],
   "source": [
    "class Persona:\n",
    "    def __init__(self, nombre):\n",
    "        self._nombre = nombre\n",
    "    \n",
    "    def get_nombre(self):\n",
    "        return self._nombre\n",
    "    \n",
    "    def set_nombre(self, nombre_nuevo):\n",
    "        self._nombre = nombre_nuevo"
   ]
  },
  {
   "cell_type": "markdown",
   "metadata": {},
   "source": [
    "Decoradores.\n",
    "\n",
    "Los decoradores son funciones que reciben como parámetro una función y retornan otra función. Es decir, modifican el comportamiento de una función."
   ]
  },
  {
   "cell_type": "code",
   "execution_count": 6,
   "metadata": {},
   "outputs": [
    {
     "name": "stdout",
     "output_type": "stream",
     "text": [
      "Antes de llamar la funcion\n",
      "Hola\n",
      "Despues de llamar la funcion\n"
     ]
    }
   ],
   "source": [
    "def decorador(funcion):\n",
    "    def funcion_modificada():\n",
    "        print(\"Antes de llamar la funcion\")\n",
    "        funcion()\n",
    "        print(\"Despues de llamar la funcion\")\n",
    "    return funcion_modificada\n",
    "\n",
    "@decorador\n",
    "def saludo():\n",
    "    print(\"Hola\")\n",
    "\n",
    "saludo()"
   ]
  },
  {
   "cell_type": "markdown",
   "metadata": {},
   "source": [
    "Properties\n",
    "\n",
    "Las properties son decoradores que se utilizan para acceder a los atributos de una clase. Se utilizan para proteger los datos dentro de una clase, ya que no se puede acceder a ellos directamente."
   ]
  },
  {
   "cell_type": "code",
   "execution_count": 12,
   "metadata": {},
   "outputs": [
    {
     "name": "stdout",
     "output_type": "stream",
     "text": [
      "Juan\n",
      "Juan Carlos\n"
     ]
    }
   ],
   "source": [
    "class Persona:\n",
    "    def __init__(self, nombre):\n",
    "        self._nombre = nombre\n",
    "    \n",
    "    @property\n",
    "    def nombre(self):\n",
    "        return self._nombre\n",
    "    \n",
    "    @nombre.setter\n",
    "    def nombre(self, nombre_nuevo):\n",
    "        self._nombre = nombre_nuevo\n",
    "\n",
    "    @nombre.deleter\n",
    "    def nombre(self, nombre_nuevo):\n",
    "        del self._nombre \n",
    "    \n",
    "juan = Persona(\"Juan\")\n",
    "nombre = juan.nombre\n",
    "\n",
    "print(nombre) \n",
    "\n",
    "juan.nombre = \"Juan Carlos\"\n",
    "nombre = juan.nombre\n",
    "\n",
    "print(nombre)\n",
    "    "
   ]
  },
  {
   "cell_type": "markdown",
   "metadata": {},
   "source": [
    "Clases abstractas\n",
    "\n",
    "Las clases abstractas son clases que no se pueden instanciar. Se utilizan para definir una clase base que no se puede instanciar, pero que puede ser heredada por otras clases. Es como una clase de clases"
   ]
  },
  {
   "cell_type": "code",
   "execution_count": 13,
   "metadata": {},
   "outputs": [],
   "source": [
    "from abc import ABC, abstractmethod\n",
    "\n",
    "class Persona(ABC):\n",
    "    @abstractmethod\n",
    "    def __init__(self, nombre, edad, actividad):\n",
    "        self.nombre = nombre\n",
    "        self.edad = edad\n",
    "        self.actividad = actividad\n",
    "    \n",
    "    @abstractmethod\n",
    "    def actividad(self):\n",
    "        pass\n",
    "\n",
    "    def presentarse(self):\n",
    "        print(f\"Hola soy {self.nombre} y tengo {self.edad} años\")"
   ]
  },
  {
   "cell_type": "markdown",
   "metadata": {},
   "source": [
    "En la clase hija debo definir los metodos abstractos de la clase padre. Es una especie de compromiso. Además deja la ventana abierta a que las subclases utilicen funciones que estén presentes en todas, y además, sean especificas a la clase."
   ]
  },
  {
   "cell_type": "code",
   "execution_count": 15,
   "metadata": {},
   "outputs": [],
   "source": [
    "class Estudiante(Persona):\n",
    "    def __init__(self, nombre, edad, actividad):\n",
    "        super().__init__(nombre, edad, actividad)\n",
    "\n",
    "    def actividad(self):\n",
    "        print(\"Estoy estudiando\")\n",
    "\n",
    "juan = Estudiante(\"Juan\", 20, \"Estudiante\")"
   ]
  },
  {
   "cell_type": "markdown",
   "metadata": {},
   "source": [
    "Métodos especiales\n",
    "\n",
    "Los métodos especiales o dunder methods son métodos que se utilizan para modificar el comportamiento de una clase. Por ejemplo, el método __init__ se utiliza para inicializar una clase. Estan reservados."
   ]
  },
  {
   "cell_type": "code",
   "execution_count": 23,
   "metadata": {},
   "outputs": [
    {
     "name": "stdout",
     "output_type": "stream",
     "text": [
      "40\n"
     ]
    }
   ],
   "source": [
    "class Estudiante():\n",
    "    #init es el constructor de la clase\n",
    "    def __init__(self, nombre, edad, actividad):\n",
    "        self.nombre = nombre\n",
    "        self.edad = edad\n",
    "        self.actividad = actividad\n",
    "\n",
    "    #str es el metodo que se ejecuta cuando se imprime el objeto\n",
    "    def __str__(self):\n",
    "        return f\"Nombre: {self.nombre}, Edad: {self.edad}, Actividad: {self.actividad}\"\n",
    "    \n",
    "    #repr es el metodo que se ejecuta cuando se imprime el objeto en una lista\n",
    "    def __repr__(self):\n",
    "        return f\"Nombre: {self.nombre}, Edad: {self.edad}, Actividad: {self.actividad}\"\n",
    "    \n",
    "    #add define como se comporta la suma de dos de nuestros objetos\n",
    "    def __add__(self, other):\n",
    "        return Estudiante(self.nombre + other.nombre, self.edad + other.edad, self.actividad + other.actividad)\n",
    "\n",
    "dalto = Estudiante(\"Dalto\", 20, \"Estudiante\")\n",
    "pedro = Estudiante(\"Pedro\", 20, \"Estudiante\")\n",
    "\n",
    "nueva_persona = dalto + pedro\n",
    "print(nueva_persona.edad)"
   ]
  },
  {
   "cell_type": "markdown",
   "metadata": {},
   "source": [
    "Si nos abstraemos, podemos darnos cuenta que el mismo lenguaje Python posee objetos de cierto tipo (clase) y estos tienen métodos asignados. Por ejemplo, el tipo int tiene el método __add__ que se utiliza para sumar dos números. Si sumamos dos números, Python utiliza el método __add__ para realizar la suma.\n",
    "\n",
    "Por tanto, nosotros podemos definir nuestros propios métodos para que interactuen entre nuestras instancias de clases.\n"
   ]
  },
  {
   "cell_type": "markdown",
   "metadata": {},
   "source": [
    "<img src=https://miro.medium.com/v2/resize:fit:1146/1*hg0oywDt__rvkBDeEeov7Q.png>"
   ]
  },
  {
   "cell_type": "markdown",
   "metadata": {},
   "source": [
    "##### Principios SOLID\n",
    "\n",
    "SOLID es un acrónimo que representa los 5 principios de la programación orientada a objetos. Estos principios son: Single Responsibility Principle (SRP), Open/Closed Principle (OCP), Liskov Substitution Principle (LSP), Interface Segregation Principle (ISP) y Dependency Inversion Principle (DIP).\n",
    "\n",
    "SRP: Una clase debe tener una única responsabilidad. Es decir, una clase debe tener un único motivo para cambiar.\n",
    "\n",
    "OCP: Las clases deben estar abiertas para su extensión, pero cerradas para su modificación. Es decir, se deben poder agregar nuevas funcionalidades sin modificar el código existente.\n",
    "\n",
    "LSP: Las clases hijas deben poder ser utilizadas en lugar de la clase padre. Es decir, las clases hijas deben poder ser sustituibles por la clase padre.\n",
    "\n",
    "ISP: Los clientes no deben depender de interfaces que no utilizan. Es decir, no se deben obligar a los clientes a implementar interfaces que no utilizan.\n",
    "\n",
    "DIP: Las clases deben depender de abstracciones, no de implementaciones. Es decir, las clases no deben depender de clases concretas, sino de interfaces.\n",
    "\n",
    "<img src=https://sp-ao.shortpixel.ai/client/to_auto,q_glossy,ret_img,w_768,h_484/https://anahisalgado.com/wp-content/uploads/2022/07/image-12-1024x645.png>"
   ]
  },
  {
   "cell_type": "markdown",
   "metadata": {},
   "source": [
    "SRP: Single Responsability Principle\n",
    "\n",
    "Un auto tiene mas de un proceso ocurriendo. Por ejemplo, el motor, la transmisión, el sistema de frenos, etc. Cada uno de estos procesos es una responsabilidad. Por tanto, cada uno de estos procesos puede ser una clase."
   ]
  },
  {
   "cell_type": "code",
   "execution_count": 6,
   "metadata": {},
   "outputs": [
    {
     "name": "stdout",
     "output_type": "stream",
     "text": [
      "Me estoy moviendo\n",
      "10\n",
      "Me estoy moviendo\n",
      "105\n",
      "No me puedo mover sin combustible\n",
      "105\n"
     ]
    }
   ],
   "source": [
    "class Auto():\n",
    "    def __init__(self, tanque):\n",
    "        self.tanque = tanque\n",
    "        self.posicion = 0\n",
    "\n",
    "    def mover(self, distancia):\n",
    "        if self.tanque.obtener_combustible() >= distancia:\n",
    "            # se asume un gasto de 1u de combustible por 1u de distancia\n",
    "            self.tanque.usar_combustible(distancia)\n",
    "            print(\"Me estoy moviendo\")\n",
    "            self.posicion += distancia\n",
    "        else:\n",
    "            print(\"No me puedo mover esa distancia sin combustible\")\n",
    "\n",
    "    def obtener_posicion(self):\n",
    "        return self.posicion\n",
    "\n",
    "class TanqueDeCombustible:\n",
    "    def __init__(self):\n",
    "        self.combustible = 100\n",
    "\n",
    "    def obtener_combustible(self):\n",
    "        return self.combustible\n",
    "    \n",
    "    def usar_combustible(self, cantidad):\n",
    "        self.combustible -= cantidad\n",
    "\n",
    "    def agregar_combustible(self, cantidad):\n",
    "        self.combustible += cantidad\n",
    "\n",
    "tanque = TanqueDeCombustible()\n",
    "autito = Auto(tanque)\n",
    "\n",
    "autito.mover(10)\n",
    "print(autito.obtener_posicion())\n",
    "autito.mover(95)\n",
    "print(autito.obtener_posicion())\n",
    "autito.mover(10)\n",
    "print(autito.obtener_posicion())"
   ]
  },
  {
   "cell_type": "markdown",
   "metadata": {},
   "source": [
    "OCP: Open/Closed Principle\n",
    "\n",
    "En este ejemplo, si quiero añadir vias de notificaciones, simplemente creo una nueva clase para los nuevos canales. No modifico las clases existentes."
   ]
  },
  {
   "cell_type": "code",
   "execution_count": null,
   "metadata": {},
   "outputs": [],
   "source": [
    "class Notificador:\n",
    "    def __init__(self, usuario, mensaje):\n",
    "        self.usuario = usuario\n",
    "        self.mensaje = mensaje\n",
    "\n",
    "    def notificar(self, mensaje):\n",
    "        raise NotImplementedError(\"Notificar no esta implementado\")\n",
    "    \n",
    "class NotificadorEmail(Notificador):\n",
    "    def notificar(self):\n",
    "        print(f\"Enviando email a {self.usuario} con el mensaje {self.mensaje}\")\n",
    "\n",
    "class NotificadorSMS(Notificador):\n",
    "    def notificar(self):\n",
    "        print(f\"Enviando sms a {self.usuario} con el mensaje {self.mensaje}\")\n",
    "\n"
   ]
  },
  {
   "cell_type": "markdown",
   "metadata": {},
   "source": [
    "LSP: Liskov Substitution Principle\n",
    "\n",
    "En el ejemplo de Pajaro y Pinguino, ambos son aves, pero el segundo no pueden volar. Por tanto, no se puede sustituir a un pajaro por un pinguino.\n",
    "\n",
    "Esto es una violación del principio de Liskov. Para solucionarlo, se puede crear dos subclases."
   ]
  },
  {
   "cell_type": "code",
   "execution_count": 9,
   "metadata": {},
   "outputs": [
    {
     "name": "stdout",
     "output_type": "stream",
     "text": [
      "Puedo volar\n"
     ]
    }
   ],
   "source": [
    "# acá irian atributos que toda ave tiene en comun\n",
    "class Pajaro:\n",
    "    pass\n",
    "\n",
    "# a partir de aqui sus atributos pueden variar, pero siempre heredando los bases\n",
    "class AveVoladora(Pajaro):\n",
    "    def volar (self):\n",
    "        print(\"Puedo volar\")\n",
    "\n",
    "class AveNoVoladora(Pajaro):\n",
    "    def volar (self):\n",
    "        print(\"No puedo volar\")\n",
    "\n",
    "class Pinguino (AveNoVoladora):\n",
    "    pass\n",
    "\n",
    "def hacer_volar(pajaro = Pajaro):\n",
    "    return pajaro.volar()\n",
    "\n",
    "hacer_volar(Pinguino())\n"
   ]
  },
  {
   "cell_type": "markdown",
   "metadata": {},
   "source": [
    "ISP: Interface Segregation Principle\n",
    "\n",
    "En el ejemplo de trabajadores, podemos ver que los humanos y los robots tienen diferentes interfaces. Por tanto, se deben crear dos interfaces diferentes. La clase trabajador no puede incluir dormir o comer ya que no todos los trabajadores lo hacen (los robots no)."
   ]
  },
  {
   "cell_type": "code",
   "execution_count": 13,
   "metadata": {},
   "outputs": [
    {
     "name": "stdout",
     "output_type": "stream",
     "text": [
      "Estoy trabajando\n"
     ]
    }
   ],
   "source": [
    "from abc import ABC, abstractmethod\n",
    "\n",
    "class Trabajador(ABC):\n",
    "    @abstractmethod\n",
    "    def trabajar(self):\n",
    "        pass\n",
    "\n",
    "class Comedor(ABC):\n",
    "    @abstractmethod\n",
    "    def trabajar(self):\n",
    "        pass\n",
    "\n",
    "class Durmiente(ABC):\n",
    "    @abstractmethod\n",
    "    def trabajar(self):\n",
    "        pass\n",
    "\n",
    "class Humano (Trabajador, Comedor, Durmiente):\n",
    "    def trabajar(self):\n",
    "        print(\"Estoy trabajando\")\n",
    "\n",
    "    def comer(self):\n",
    "        print(\"Estoy comiendo\")\n",
    "\n",
    "    def dormir(self):\n",
    "        print(\"Estoy durmiendo\")\n",
    "\n",
    "class Robot (Trabajador):\n",
    "    def trabajar(self):\n",
    "        print(\"Estoy trabajando\")\n",
    "\n",
    "Robot().trabajar()\n"
   ]
  },
  {
   "cell_type": "markdown",
   "metadata": {},
   "source": [
    "DIP: Dependency Inversion Principle\n",
    "\n",
    "Los modulos deben depender de las abstracciones, no de las implementaciones. Por tanto, en el ejemplo de un corrector ortografico, el modulo debe depender de una interfaz que tenga un metodo para corregir la ortografia. No podemos depender de un diccionario como clase, sino que es mejor poseer un verificador independiente de su fuente. \n",
    "\n",
    "No estamos dependiendo de una implementación en concreto. "
   ]
  },
  {
   "cell_type": "code",
   "execution_count": null,
   "metadata": {},
   "outputs": [],
   "source": [
    "from abc import ABC, abstractmethod\n",
    "\n",
    "class VerificadorOrtografico(ABC):\n",
    "\n",
    "    @abstractmethod\n",
    "    def verificar_palabra(self):\n",
    "        # codigo para verificar la palabra\n",
    "        pass\n",
    "\n",
    "class Diccionario(VerificadorOrtografico):\n",
    "    pass # toca definir un metodo para verificar la palabra\n",
    "\n",
    "class ServicioWeb(VerificadorOrtografico):\n",
    "    pass # toca definir un metodo para verificar la palabra\n",
    "\n",
    "class CorrectorOrtografico():\n",
    "\n",
    "    def __init__(self, verificador):\n",
    "        self.verificador = verificador\n",
    "\n",
    "    def corregir_texto(self, texto):\n",
    "        # codigo para corregir gramatica\n",
    "        pass\n"
   ]
  }
 ],
 "metadata": {
  "kernelspec": {
   "display_name": "Python 3",
   "language": "python",
   "name": "python3"
  },
  "language_info": {
   "codemirror_mode": {
    "name": "ipython",
    "version": 3
   },
   "file_extension": ".py",
   "mimetype": "text/x-python",
   "name": "python",
   "nbconvert_exporter": "python",
   "pygments_lexer": "ipython3",
   "version": "3.10.5"
  }
 },
 "nbformat": 4,
 "nbformat_minor": 2
}
